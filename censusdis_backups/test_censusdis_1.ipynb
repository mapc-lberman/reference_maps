{
 "cells": [
  {
   "cell_type": "markdown",
   "metadata": {},
   "source": [
    "## testing censusdis py backup\n",
    "\n",
    "https://github.com/censusdis/censusdis/blob/main/notebooks/Getting%20Started%20Examples.ipynb"
   ]
  },
  {
   "cell_type": "code",
   "execution_count": 3,
   "metadata": {},
   "outputs": [
    {
     "name": "stdout",
     "output_type": "stream",
     "text": [
      "You have an API key installed.\n"
     ]
    }
   ],
   "source": [
    "api_key = \"766973dcdc26460a63ee43b8bfed1d1c4692486a\"\n",
    "\n",
    "if api_key is not None:\n",
    "    print(\"You have an API key installed.\")\n",
    "else:\n",
    "    print(\"You do not appear to have an API key installed. Please obtain one as described in the README.md at https://github.com/censusdis/censusdis-tutorial-2024.\")"
   ]
  },
  {
   "cell_type": "code",
   "execution_count": 4,
   "metadata": {},
   "outputs": [],
   "source": [
    "# test with ACS1 single year\n",
    "import censusdis.data as ced\n",
    "from censusdis.datasets import ACS1"
   ]
  },
  {
   "cell_type": "code",
   "execution_count": 12,
   "metadata": {},
   "outputs": [
    {
     "data": {
      "text/html": [
       "<div>\n",
       "<style scoped>\n",
       "    .dataframe tbody tr th:only-of-type {\n",
       "        vertical-align: middle;\n",
       "    }\n",
       "\n",
       "    .dataframe tbody tr th {\n",
       "        vertical-align: top;\n",
       "    }\n",
       "\n",
       "    .dataframe thead th {\n",
       "        text-align: right;\n",
       "    }\n",
       "</style>\n",
       "<table border=\"1\" class=\"dataframe\">\n",
       "  <thead>\n",
       "    <tr style=\"text-align: right;\">\n",
       "      <th></th>\n",
       "      <th>DATASET</th>\n",
       "      <th>YEAR</th>\n",
       "      <th>GROUP</th>\n",
       "      <th>DESCRIPTION</th>\n",
       "    </tr>\n",
       "  </thead>\n",
       "  <tbody>\n",
       "    <tr>\n",
       "      <th>0</th>\n",
       "      <td>acs/acs1</td>\n",
       "      <td>2019</td>\n",
       "      <td>B11011</td>\n",
       "      <td>HOUSEHOLD TYPE BY UNITS IN STRUCTURE</td>\n",
       "    </tr>\n",
       "    <tr>\n",
       "      <th>1</th>\n",
       "      <td>acs/acs1</td>\n",
       "      <td>2019</td>\n",
       "      <td>B25024</td>\n",
       "      <td>UNITS IN STRUCTURE</td>\n",
       "    </tr>\n",
       "    <tr>\n",
       "      <th>2</th>\n",
       "      <td>acs/acs1</td>\n",
       "      <td>2019</td>\n",
       "      <td>B25032</td>\n",
       "      <td>TENURE BY UNITS IN STRUCTURE</td>\n",
       "    </tr>\n",
       "    <tr>\n",
       "      <th>3</th>\n",
       "      <td>acs/acs1</td>\n",
       "      <td>2019</td>\n",
       "      <td>B25032A</td>\n",
       "      <td>UNITS IN STRUCTURE (WHITE ALONE HOUSEHOLDER)</td>\n",
       "    </tr>\n",
       "    <tr>\n",
       "      <th>4</th>\n",
       "      <td>acs/acs1</td>\n",
       "      <td>2019</td>\n",
       "      <td>B25032B</td>\n",
       "      <td>UNITS IN STRUCTURE (BLACK OR AFRICAN AMERICAN ...</td>\n",
       "    </tr>\n",
       "    <tr>\n",
       "      <th>...</th>\n",
       "      <td>...</td>\n",
       "      <td>...</td>\n",
       "      <td>...</td>\n",
       "      <td>...</td>\n",
       "    </tr>\n",
       "    <tr>\n",
       "      <th>61</th>\n",
       "      <td>acs/acs1</td>\n",
       "      <td>2022</td>\n",
       "      <td>B25127</td>\n",
       "      <td>Tenure by Year Structure Built by Units in Str...</td>\n",
       "    </tr>\n",
       "    <tr>\n",
       "      <th>62</th>\n",
       "      <td>acs/acs1</td>\n",
       "      <td>2022</td>\n",
       "      <td>B25129</td>\n",
       "      <td>Tenure by Year Householder Moved Into Unit by ...</td>\n",
       "    </tr>\n",
       "    <tr>\n",
       "      <th>63</th>\n",
       "      <td>acs/acs1</td>\n",
       "      <td>2022</td>\n",
       "      <td>B99255</td>\n",
       "      <td>Allocation of Units in Structure</td>\n",
       "    </tr>\n",
       "    <tr>\n",
       "      <th>64</th>\n",
       "      <td>acs/acs1</td>\n",
       "      <td>2022</td>\n",
       "      <td>C25032</td>\n",
       "      <td>Tenure by Units in Structure</td>\n",
       "    </tr>\n",
       "    <tr>\n",
       "      <th>65</th>\n",
       "      <td>acs/acs1</td>\n",
       "      <td>2022</td>\n",
       "      <td>C25033</td>\n",
       "      <td>Total Population in Occupied Housing Units by ...</td>\n",
       "    </tr>\n",
       "  </tbody>\n",
       "</table>\n",
       "<p>66 rows × 4 columns</p>\n",
       "</div>"
      ],
      "text/plain": [
       "     DATASET  YEAR    GROUP                                        DESCRIPTION\n",
       "0   acs/acs1  2019   B11011               HOUSEHOLD TYPE BY UNITS IN STRUCTURE\n",
       "1   acs/acs1  2019   B25024                                 UNITS IN STRUCTURE\n",
       "2   acs/acs1  2019   B25032                       TENURE BY UNITS IN STRUCTURE\n",
       "3   acs/acs1  2019  B25032A       UNITS IN STRUCTURE (WHITE ALONE HOUSEHOLDER)\n",
       "4   acs/acs1  2019  B25032B  UNITS IN STRUCTURE (BLACK OR AFRICAN AMERICAN ...\n",
       "..       ...   ...      ...                                                ...\n",
       "61  acs/acs1  2022   B25127  Tenure by Year Structure Built by Units in Str...\n",
       "62  acs/acs1  2022   B25129  Tenure by Year Householder Moved Into Unit by ...\n",
       "63  acs/acs1  2022   B99255                   Allocation of Units in Structure\n",
       "64  acs/acs1  2022   C25032                       Tenure by Units in Structure\n",
       "65  acs/acs1  2022   C25033  Total Population in Occupied Housing Units by ...\n",
       "\n",
       "[66 rows x 4 columns]"
      ]
     },
     "execution_count": 12,
     "metadata": {},
     "output_type": "execute_result"
    }
   ],
   "source": [
    "df_groups = ced.variables.search_groups(\n",
    "    ACS1, range(2019, 2023), pattern=\"units in structure.*\"\n",
    ")\n",
    "\n",
    "df_groups"
   ]
  },
  {
   "cell_type": "markdown",
   "metadata": {},
   "source": [
    "test B25115 'Tenure by Household Type and Presence and Age of Own Children'"
   ]
  },
  {
   "cell_type": "code",
   "execution_count": 6,
   "metadata": {},
   "outputs": [],
   "source": [
    "from censusdis.datasets import ACS5"
   ]
  },
  {
   "cell_type": "code",
   "execution_count": 7,
   "metadata": {},
   "outputs": [],
   "source": [
    "from censusdis.states import MA, NAMES_FROM_IDS"
   ]
  },
  {
   "cell_type": "code",
   "execution_count": 8,
   "metadata": {},
   "outputs": [],
   "source": [
    "# setup 5yr for tract\n",
    "CENSUS_API_KEY = api_key\n",
    "YEAR = 2022\n",
    "DATASET = ACS5\n",
    "STATE = MA\n",
    "\n",
    "SET_YEAR = str(YEAR)"
   ]
  },
  {
   "cell_type": "code",
   "execution_count": 9,
   "metadata": {},
   "outputs": [],
   "source": [
    "# A group of variables counting people by race and ethnicity.\n",
    "# See https://api.census.gov/data/2019/acs/acs5/groups/B03002.html\n",
    "GROUP = \"B25124\""
   ]
  },
  {
   "cell_type": "code",
   "execution_count": 10,
   "metadata": {},
   "outputs": [],
   "source": [
    "df_acs5 = ced.download(\n",
    "    DATASET,\n",
    "    YEAR,\n",
    "    leaves_of_group=GROUP,\n",
    "    state=STATE,\n",
    "    tract=\"*\",\n",
    "    api_key=CENSUS_API_KEY,\n",
    ")"
   ]
  },
  {
   "cell_type": "code",
   "execution_count": 10,
   "metadata": {},
   "outputs": [
    {
     "name": "stdout",
     "output_type": "stream",
     "text": [
      "     STATE COUNTY   TRACT  B25115_005E  B25115_006E  B25115_009E  B25115_010E  \\\n",
      "0       25    001  010100           21          438           11            0   \n",
      "1       25    001  010206          169          753           12            0   \n",
      "2       25    001  010208            0          367            0            0   \n",
      "3       25    001  010304           82          477            9           58   \n",
      "4       25    001  010306           90          631            0           22   \n",
      "...    ...    ...     ...          ...          ...          ...          ...   \n",
      "1615    25    027  761100          334          321          115            0   \n",
      "1616    25    027  761200          342          394            0           18   \n",
      "1617    25    027  761300          311          269           36           14   \n",
      "1618    25    027  761401          398          604           14           13   \n",
      "1619    25    027  761402          207          124           24           16   \n",
      "\n",
      "      B25115_012E  B25115_013E  B25115_014E  B25115_018E  B25115_019E  \\\n",
      "0              17           92          946           29           33   \n",
      "1              13           61          688          135           23   \n",
      "2              17           27          451            0            9   \n",
      "3              34           70          576           22            0   \n",
      "4              89           62          339            0            0   \n",
      "...           ...          ...          ...          ...          ...   \n",
      "1615           31           23          487           64           66   \n",
      "1616           60           41          216          401          198   \n",
      "1617           23           79          272           26           40   \n",
      "1618           12           52          291           18           17   \n",
      "1619            0           37           21            0           14   \n",
      "\n",
      "      B25115_022E  B25115_023E  B25115_025E  B25115_026E  B25115_027E  \\\n",
      "0               0            0            0           33          376   \n",
      "1               0            0           29            0           92   \n",
      "2               0            0            0            0          160   \n",
      "3               0           12            0            0           23   \n",
      "4              37           13            0            0           78   \n",
      "...           ...          ...          ...          ...          ...   \n",
      "1615            0            0            0           35          534   \n",
      "1616            0            0           22           22          520   \n",
      "1617            0            0           67            0          162   \n",
      "1618            8            0            0            0            0   \n",
      "1619            0            0            0            0           95   \n",
      "\n",
      "                    GEO_ID                                               NAME  \n",
      "0     1400000US25001010100  Census Tract 101; Barnstable County; Massachus...  \n",
      "1     1400000US25001010206  Census Tract 102.06; Barnstable County; Massac...  \n",
      "2     1400000US25001010208  Census Tract 102.08; Barnstable County; Massac...  \n",
      "3     1400000US25001010304  Census Tract 103.04; Barnstable County; Massac...  \n",
      "4     1400000US25001010306  Census Tract 103.06; Barnstable County; Massac...  \n",
      "...                    ...                                                ...  \n",
      "1615  1400000US25027761100  Census Tract 7611; Worcester County; Massachus...  \n",
      "1616  1400000US25027761200  Census Tract 7612; Worcester County; Massachus...  \n",
      "1617  1400000US25027761300  Census Tract 7613; Worcester County; Massachus...  \n",
      "1618  1400000US25027761401  Census Tract 7614.01; Worcester County; Massac...  \n",
      "1619  1400000US25027761402  Census Tract 7614.02; Worcester County; Massac...  \n",
      "\n",
      "[1620 rows x 19 columns]\n"
     ]
    }
   ],
   "source": [
    "print(df_acs5)"
   ]
  },
  {
   "cell_type": "markdown",
   "metadata": {},
   "source": [
    "note output to csv explicitly includes geography level: tract in the filename.  if switching geography level edit this target filename."
   ]
  },
  {
   "cell_type": "code",
   "execution_count": 11,
   "metadata": {},
   "outputs": [],
   "source": [
    "df_acs5.to_csv(\"C:\\\\Users\\\\lberman\\\\Desktop\\\\SWAP\\\\censusBAK\\\\acs_backup_\" + GROUP + \"_tract_\" + SET_YEAR + \".csv\")"
   ]
  },
  {
   "cell_type": "markdown",
   "metadata": {},
   "source": [
    "__how to get MOE?__  see https://github.com/censusdis/censusdis/discussions/279\n",
    "only can obtain MOE explicitly by a single variable and geography?"
   ]
  },
  {
   "cell_type": "code",
   "execution_count": 21,
   "metadata": {},
   "outputs": [
    {
     "data": {
      "text/html": [
       "<div>\n",
       "<style scoped>\n",
       "    .dataframe tbody tr th:only-of-type {\n",
       "        vertical-align: middle;\n",
       "    }\n",
       "\n",
       "    .dataframe tbody tr th {\n",
       "        vertical-align: top;\n",
       "    }\n",
       "\n",
       "    .dataframe thead th {\n",
       "        text-align: right;\n",
       "    }\n",
       "</style>\n",
       "<table border=\"1\" class=\"dataframe\">\n",
       "  <thead>\n",
       "    <tr style=\"text-align: right;\">\n",
       "      <th></th>\n",
       "      <th>STATE</th>\n",
       "      <th>COUNTY</th>\n",
       "      <th>TRACT</th>\n",
       "      <th>NAME</th>\n",
       "      <th>B25115_005M</th>\n",
       "    </tr>\n",
       "  </thead>\n",
       "  <tbody>\n",
       "    <tr>\n",
       "      <th>0</th>\n",
       "      <td>25</td>\n",
       "      <td>001</td>\n",
       "      <td>010100</td>\n",
       "      <td>Census Tract 101; Barnstable County; Massachus...</td>\n",
       "      <td>16</td>\n",
       "    </tr>\n",
       "    <tr>\n",
       "      <th>1</th>\n",
       "      <td>25</td>\n",
       "      <td>001</td>\n",
       "      <td>010206</td>\n",
       "      <td>Census Tract 102.06; Barnstable County; Massac...</td>\n",
       "      <td>84</td>\n",
       "    </tr>\n",
       "    <tr>\n",
       "      <th>2</th>\n",
       "      <td>25</td>\n",
       "      <td>001</td>\n",
       "      <td>010208</td>\n",
       "      <td>Census Tract 102.08; Barnstable County; Massac...</td>\n",
       "      <td>14</td>\n",
       "    </tr>\n",
       "    <tr>\n",
       "      <th>3</th>\n",
       "      <td>25</td>\n",
       "      <td>001</td>\n",
       "      <td>010304</td>\n",
       "      <td>Census Tract 103.04; Barnstable County; Massac...</td>\n",
       "      <td>56</td>\n",
       "    </tr>\n",
       "    <tr>\n",
       "      <th>4</th>\n",
       "      <td>25</td>\n",
       "      <td>001</td>\n",
       "      <td>010306</td>\n",
       "      <td>Census Tract 103.06; Barnstable County; Massac...</td>\n",
       "      <td>69</td>\n",
       "    </tr>\n",
       "    <tr>\n",
       "      <th>...</th>\n",
       "      <td>...</td>\n",
       "      <td>...</td>\n",
       "      <td>...</td>\n",
       "      <td>...</td>\n",
       "      <td>...</td>\n",
       "    </tr>\n",
       "    <tr>\n",
       "      <th>1615</th>\n",
       "      <td>25</td>\n",
       "      <td>027</td>\n",
       "      <td>761100</td>\n",
       "      <td>Census Tract 7611; Worcester County; Massachus...</td>\n",
       "      <td>135</td>\n",
       "    </tr>\n",
       "    <tr>\n",
       "      <th>1616</th>\n",
       "      <td>25</td>\n",
       "      <td>027</td>\n",
       "      <td>761200</td>\n",
       "      <td>Census Tract 7612; Worcester County; Massachus...</td>\n",
       "      <td>132</td>\n",
       "    </tr>\n",
       "    <tr>\n",
       "      <th>1617</th>\n",
       "      <td>25</td>\n",
       "      <td>027</td>\n",
       "      <td>761300</td>\n",
       "      <td>Census Tract 7613; Worcester County; Massachus...</td>\n",
       "      <td>105</td>\n",
       "    </tr>\n",
       "    <tr>\n",
       "      <th>1618</th>\n",
       "      <td>25</td>\n",
       "      <td>027</td>\n",
       "      <td>761401</td>\n",
       "      <td>Census Tract 7614.01; Worcester County; Massac...</td>\n",
       "      <td>109</td>\n",
       "    </tr>\n",
       "    <tr>\n",
       "      <th>1619</th>\n",
       "      <td>25</td>\n",
       "      <td>027</td>\n",
       "      <td>761402</td>\n",
       "      <td>Census Tract 7614.02; Worcester County; Massac...</td>\n",
       "      <td>56</td>\n",
       "    </tr>\n",
       "  </tbody>\n",
       "</table>\n",
       "<p>1620 rows × 5 columns</p>\n",
       "</div>"
      ],
      "text/plain": [
       "     STATE COUNTY   TRACT                                               NAME  \\\n",
       "0       25    001  010100  Census Tract 101; Barnstable County; Massachus...   \n",
       "1       25    001  010206  Census Tract 102.06; Barnstable County; Massac...   \n",
       "2       25    001  010208  Census Tract 102.08; Barnstable County; Massac...   \n",
       "3       25    001  010304  Census Tract 103.04; Barnstable County; Massac...   \n",
       "4       25    001  010306  Census Tract 103.06; Barnstable County; Massac...   \n",
       "...    ...    ...     ...                                                ...   \n",
       "1615    25    027  761100  Census Tract 7611; Worcester County; Massachus...   \n",
       "1616    25    027  761200  Census Tract 7612; Worcester County; Massachus...   \n",
       "1617    25    027  761300  Census Tract 7613; Worcester County; Massachus...   \n",
       "1618    25    027  761401  Census Tract 7614.01; Worcester County; Massac...   \n",
       "1619    25    027  761402  Census Tract 7614.02; Worcester County; Massac...   \n",
       "\n",
       "      B25115_005M  \n",
       "0              16  \n",
       "1              84  \n",
       "2              14  \n",
       "3              56  \n",
       "4              69  \n",
       "...           ...  \n",
       "1615          135  \n",
       "1616          132  \n",
       "1617          105  \n",
       "1618          109  \n",
       "1619           56  \n",
       "\n",
       "[1620 rows x 5 columns]"
      ]
     },
     "execution_count": 21,
     "metadata": {},
     "output_type": "execute_result"
    }
   ],
   "source": [
    "ced.download(\n",
    "    ACS5,\n",
    "    2022,\n",
    "    ['NAME', 'B25115_005M'],\n",
    "    state=STATE,\n",
    "    tract=\"*\",\n",
    "    api_key=CENSUS_API_KEY,\n",
    ")"
   ]
  },
  {
   "cell_type": "markdown",
   "metadata": {},
   "source": [
    "trying the command:  census-backup -d acs/acs5 -v 2020 -g B02001 -o ~/tmp/backup  --log INFO\n",
    "\n",
    "the following works in conda shell command line (could not get it to work in py notebook)"
   ]
  },
  {
   "cell_type": "code",
   "execution_count": 25,
   "metadata": {},
   "outputs": [
    {
     "ename": "SyntaxError",
     "evalue": "invalid syntax (4110280384.py, line 1)",
     "output_type": "error",
     "traceback": [
      "\u001b[1;36m  Cell \u001b[1;32mIn[25], line 1\u001b[1;36m\u001b[0m\n\u001b[1;33m    import census-backup\u001b[0m\n\u001b[1;37m                 ^\u001b[0m\n\u001b[1;31mSyntaxError\u001b[0m\u001b[1;31m:\u001b[0m invalid syntax\n"
     ]
    }
   ],
   "source": [
    "census-backup -d acs/acs5 -v 2020 -g B25115 -o C:\\Users\\lberman\\Desktop\\SWAP\\censusBAK\\tmp --log INFO"
   ]
  },
  {
   "cell_type": "markdown",
   "metadata": {},
   "source": [
    "example of partial output (after running 15minutes) saved to K:\\DataServices\\Code\\Python\\Python_ACS_Script\\censusdis_backup_test\\tmp"
   ]
  }
 ],
 "metadata": {
  "kernelspec": {
   "display_name": "censusdis",
   "language": "python",
   "name": "python3"
  },
  "language_info": {
   "codemirror_mode": {
    "name": "ipython",
    "version": 3
   },
   "file_extension": ".py",
   "mimetype": "text/x-python",
   "name": "python",
   "nbconvert_exporter": "python",
   "pygments_lexer": "ipython3",
   "version": "3.12.8"
  }
 },
 "nbformat": 4,
 "nbformat_minor": 2
}
